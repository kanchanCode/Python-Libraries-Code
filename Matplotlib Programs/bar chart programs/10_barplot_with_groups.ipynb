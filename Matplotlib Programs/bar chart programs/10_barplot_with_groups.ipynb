{
 "cells": [
  {
   "cell_type": "code",
   "execution_count": 10,
   "metadata": {},
   "outputs": [
    {
     "name": "stdout",
     "output_type": "stream",
     "text": [
      "[0 1 2 3 4]\n",
      "[-0.2  0.8  1.8  2.8  3.8]\n",
      "[0.2 1.2 2.2 3.2 4.2]\n"
     ]
    },
    {
     "data": {
      "image/png": "[encoded data removed]",
      "text/plain": [
       "<Figure size 432x288 with 1 Axes>"
      ]
     },
     "metadata": {
      "needs_background": "light"
     },
     "output_type": "display_data"
    }
   ],
   "source": [
    "'''\n",
    "@Author: Kanchan\n",
    "@Date: 2022-01-06\n",
    "@Last Modified by: Kanchan\n",
    "@Last Modified time: 2022-01-06\n",
    "@Title :  Write a Python program to create bar plot of scores by group and gender. Use multiple X\n",
    "values on the same chart for men and women.\n",
    "Data:\n",
    "Means (men) = (22, 30, 35, 35, 26)\n",
    "Means (women) = (25, 32, 30, 35, 29)\n",
    "\n",
    "'''\n",
    "import numpy as np\n",
    "import matplotlib.pyplot as plt\n",
    "\n",
    "x=['GroupA','GroupB','GroupC','GroupD','GroupE']\n",
    "men = (22, 30, 33, 30, 26)\n",
    "women = (25, 32, 30, 35, 29)\n",
    "\n",
    "x_pos=np.arange(len(x))\n",
    "#print(x_pos)\n",
    "#print(x_pos-0.2)\n",
    "#print(x_pos+0.2)\n",
    "plt.bar(x_pos-0.2,men,width=0.4,label=\"Men\",color='b')\n",
    "plt.bar(x_pos+0.2,women,width=0.4,label=\"Women\",color='pink')\n",
    "\n",
    "plt.xticks(x_pos,x)\n",
    "plt.legend()\n",
    "plt.xlabel('Groups')\n",
    "plt.ylabel('Scores')\n",
    "plt.title(\"Scores secured by men and women\")\n",
    "plt.ylim(0,40)\n",
    "plt.show()\n",
    "\n",
    "\n",
    "\n"
   ]
  }
 ],
 "metadata": {
  "interpreter": {
   "hash": "9efce205f64ad363cd9f14615485aca38ee4ef0915866e318aa83c8d0c93f6fc"
  },
  "kernelspec": {
   "display_name": "Python 3.10.1 64-bit",
   "language": "python",
   "name": "python3"
  },
  "language_info": {
   "codemirror_mode": {
    "name": "ipython",
    "version": 3
   },
   "file_extension": ".py",
   "mimetype": "text/x-python",
   "name": "python",
   "nbconvert_exporter": "python",
   "pygments_lexer": "ipython3",
   "version": "3.10.1"
  },
  "orig_nbformat": 4
 },
 "nbformat": 4,
 "nbformat_minor": 2
}
