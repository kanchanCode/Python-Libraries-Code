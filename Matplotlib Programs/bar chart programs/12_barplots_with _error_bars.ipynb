{
 "cells": [
  {
   "cell_type": "code",
   "execution_count": 7,
   "metadata": {},
   "outputs": [
    {
     "data": {
      "image/png": "[encoded data removed]",
      "text/plain": [
       "<Figure size 432x288 with 1 Axes>"
      ]
     },
     "metadata": {
      "needs_background": "light"
     },
     "output_type": "display_data"
    }
   ],
   "source": [
    "'''\n",
    "@Author: Kanchan\n",
    "@Date: 2022-01-05\n",
    "@Last Modified by: Kanchan\n",
    "@Last Modified time: 2022-01-05\n",
    "@Title :Write a Python program to create bar plots with error bars on the same figure. \n",
    "'''\n",
    "\n",
    "#Error bar charts are a great way to represent the variability in your data. \n",
    "# It can be applied to graphs to provide an additional layer of detailed information on the presented data.\n",
    "import numpy as np\n",
    "import matplotlib.pyplot as plt\n",
    "\n",
    "N=5\n",
    "mean_velocity = (54.74, 42.35, 67.37, 58.24, 30.25)\n",
    "std_velocity = (4, 3, 4, 1, 5)\n",
    "x_pos=np.arange(N)\n",
    "width=0.35\n",
    "\n",
    "plt.bar(x_pos,mean_velocity,width=width,yerr=std_velocity,color='y')\n",
    "plt.ylabel('Scores')\n",
    "plt.xlabel('Velocity')\n",
    "plt.title('Scores by Velocity')\n",
    "\n",
    "plt.show()\n",
    "\n"
   ]
  }
 ],
 "metadata": {
  "interpreter": {
   "hash": "9efce205f64ad363cd9f14615485aca38ee4ef0915866e318aa83c8d0c93f6fc"
  },
  "kernelspec": {
   "display_name": "Python 3.10.1 64-bit",
   "language": "python",
   "name": "python3"
  },
  "language_info": {
   "codemirror_mode": {
    "name": "ipython",
    "version": 3
   },
   "file_extension": ".py",
   "mimetype": "text/x-python",
   "name": "python",
   "nbconvert_exporter": "python",
   "pygments_lexer": "ipython3",
   "version": "3.10.1"
  },
  "orig_nbformat": 4
 },
 "nbformat": 4,
 "nbformat_minor": 2
}
