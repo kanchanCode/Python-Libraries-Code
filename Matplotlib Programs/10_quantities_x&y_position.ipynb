{
 "cells": [
  {
   "cell_type": "code",
   "execution_count": 6,
   "metadata": {},
   "outputs": [
    {
     "data": {
      "image/png": "[encoded data removed]",
      "text/plain": [
       "<Figure size 432x288 with 1 Axes>"
      ]
     },
     "metadata": {
      "needs_background": "light"
     },
     "output_type": "display_data"
    }
   ],
   "source": [
    "'''\n",
    "@Author: Kanchan\n",
    "@Date: 2022-01-04\n",
    "@Last Modified by: Kanchan\n",
    "@Last Modified time: 2022-01-04\n",
    "@Title : Write a Python program to plot quantities which have an x and y position.\n",
    "'''\n",
    "#from matplotlib import pyplot as plt\n",
    "#import numpy as np\n",
    "import pylab as pl\n",
    "#PyLab is a convenience module that bulk imports matplotlib.pyplot (for plotting) \n",
    "# and NumPy (for Mathematics and working with arrays) in a single name space.\n",
    "\n",
    "x=[20,40,60,80]\n",
    "y=[10,30,60,70]\n",
    "\n",
    "x2=[10,30,50,70]\n",
    "y2=[30,50,40,80]\n",
    "\n",
    "pl.axis([0,100,0,100])\n",
    "pl.plot(x,y,'b*',x2,y2,'ro') #b*-blue star and #ro is for red dots\n",
    "pl.show() "
   ]
  }
 ],
 "metadata": {
  "interpreter": {
   "hash": "9efce205f64ad363cd9f14615485aca38ee4ef0915866e318aa83c8d0c93f6fc"
  },
  "kernelspec": {
   "display_name": "Python 3.10.1 64-bit",
   "language": "python",
   "name": "python3"
  },
  "language_info": {
   "codemirror_mode": {
    "name": "ipython",
    "version": 3
   },
   "file_extension": ".py",
   "mimetype": "text/x-python",
   "name": "python",
   "nbconvert_exporter": "python",
   "pygments_lexer": "ipython3",
   "version": "3.10.1"
  },
  "orig_nbformat": 4
 },
 "nbformat": 4,
 "nbformat_minor": 2
}
